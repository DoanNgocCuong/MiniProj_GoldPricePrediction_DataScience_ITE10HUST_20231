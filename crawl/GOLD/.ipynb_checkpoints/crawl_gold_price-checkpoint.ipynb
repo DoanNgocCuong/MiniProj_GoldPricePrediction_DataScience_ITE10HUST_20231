{
 "cells": [
  {
   "cell_type": "code",
   "execution_count": 20,
   "id": "55f29166",
   "metadata": {},
   "outputs": [
    {
     "name": "stdout",
     "output_type": "stream",
     "text": [
      "Collecting git+https://github.com/alvarobartt/investpy@403-patch\n",
      "  Cloning https://github.com/alvarobartt/investpy (to revision 403-patch) to /private/var/folders/k9/xss4jl9s24sg7_7zhcmrp2g00000gn/T/pip-req-build-u4ubdazs\n",
      "  Running command git clone --filter=blob:none --quiet https://github.com/alvarobartt/investpy /private/var/folders/k9/xss4jl9s24sg7_7zhcmrp2g00000gn/T/pip-req-build-u4ubdazs\n",
      "  Running command git checkout -b 403-patch --track origin/403-patch\n",
      "  Switched to a new branch '403-patch'\n",
      "  branch '403-patch' set up to track 'origin/403-patch'.\n",
      "  Resolved https://github.com/alvarobartt/investpy to commit 4c682ccc6fd4dfa0f31f2bfd54d207ce545d5907\n",
      "  Preparing metadata (setup.py) ... \u001b[?25ldone\n",
      "\u001b[?25hRequirement already satisfied: Unidecode>=1.1.1 in /usr/local/lib/python3.10/site-packages (from investpy==1.1.0) (1.3.7)\n",
      "Requirement already satisfied: setuptools>=41.2.0 in /usr/local/lib/python3.10/site-packages (from investpy==1.1.0) (68.1.2)\n",
      "Requirement already satisfied: numpy>=1.17.2 in /usr/local/lib/python3.10/site-packages (from investpy==1.1.0) (1.24.1)\n",
      "Requirement already satisfied: pandas>=0.25.1 in /usr/local/lib/python3.10/site-packages (from investpy==1.1.0) (2.0.0)\n",
      "Requirement already satisfied: lxml>=4.4.1 in /usr/local/lib/python3.10/site-packages (from investpy==1.1.0) (4.9.3)\n",
      "Requirement already satisfied: requests>=2.22.0 in /usr/local/lib/python3.10/site-packages (from investpy==1.1.0) (2.28.2)\n",
      "Requirement already satisfied: pytz>=2019.3 in /usr/local/lib/python3.10/site-packages (from investpy==1.1.0) (2023.3)\n",
      "Requirement already satisfied: python-dateutil>=2.8.2 in /usr/local/lib/python3.10/site-packages (from pandas>=0.25.1->investpy==1.1.0) (2.8.2)\n",
      "Requirement already satisfied: tzdata>=2022.1 in /usr/local/lib/python3.10/site-packages (from pandas>=0.25.1->investpy==1.1.0) (2023.3)\n",
      "Requirement already satisfied: charset-normalizer<4,>=2 in /usr/local/lib/python3.10/site-packages (from requests>=2.22.0->investpy==1.1.0) (3.1.0)\n",
      "Requirement already satisfied: idna<4,>=2.5 in /usr/local/lib/python3.10/site-packages (from requests>=2.22.0->investpy==1.1.0) (3.4)\n",
      "Requirement already satisfied: urllib3<1.27,>=1.21.1 in /usr/local/lib/python3.10/site-packages (from requests>=2.22.0->investpy==1.1.0) (1.26.15)\n",
      "Requirement already satisfied: certifi>=2017.4.17 in /usr/local/lib/python3.10/site-packages (from requests>=2.22.0->investpy==1.1.0) (2022.12.7)\n",
      "Requirement already satisfied: six>=1.5 in /usr/local/lib/python3.10/site-packages (from python-dateutil>=2.8.2->pandas>=0.25.1->investpy==1.1.0) (1.16.0)\n",
      "Building wheels for collected packages: investpy\n",
      "  Building wheel for investpy (setup.py) ... \u001b[?25ldone\n",
      "\u001b[?25h  Created wheel for investpy: filename=investpy-1.1.0-py3-none-any.whl size=4486963 sha256=7734accb3794aa438b99aab869946016633eb37245566e6592088d01e472a320\n",
      "  Stored in directory: /private/var/folders/k9/xss4jl9s24sg7_7zhcmrp2g00000gn/T/pip-ephem-wheel-cache-fnk8k2xu/wheels/b1/0f/f9/7a85ec63e0d83a03a4606fb6ac8b01307ba0f1f53d88be7d22\n",
      "Successfully built investpy\n",
      "Installing collected packages: investpy\n",
      "  Attempting uninstall: investpy\n",
      "    Found existing installation: investpy 1.0.8\n",
      "    Uninstalling investpy-1.0.8:\n",
      "      Successfully uninstalled investpy-1.0.8\n",
      "Successfully installed investpy-1.1.0\n",
      "Note: you may need to restart the kernel to use updated packages.\n"
     ]
    }
   ],
   "source": [
    "pip install git+https://github.com/alvarobartt/investpy@403-patch"
   ]
  },
  {
   "cell_type": "code",
   "execution_count": 24,
   "id": "aae10a8d",
   "metadata": {},
   "outputs": [
    {
     "name": "stdout",
     "output_type": "stream",
     "text": [
      "Collecting cloudscraper\n",
      "  Downloading cloudscraper-1.2.71-py2.py3-none-any.whl (99 kB)\n",
      "\u001b[2K     \u001b[38;2;114;156;31m━━━━━━━━━━━━━━━━━━━━━━━━━━━━━━━━━━━━━━━━\u001b[0m \u001b[32m99.7/99.7 kB\u001b[0m \u001b[31m1.2 MB/s\u001b[0m eta \u001b[36m0:00:00\u001b[0m[31m1.6 MB/s\u001b[0m eta \u001b[36m0:00:01\u001b[0m\n",
      "\u001b[?25hRequirement already satisfied: pyparsing>=2.4.7 in /usr/local/lib/python3.10/site-packages (from cloudscraper) (3.0.9)\n",
      "Requirement already satisfied: requests>=2.9.2 in /usr/local/lib/python3.10/site-packages (from cloudscraper) (2.28.2)\n",
      "Collecting requests-toolbelt>=0.9.1 (from cloudscraper)\n",
      "  Downloading requests_toolbelt-1.0.0-py2.py3-none-any.whl (54 kB)\n",
      "\u001b[2K     \u001b[38;2;114;156;31m━━━━━━━━━━━━━━━━━━━━━━━━━━━━━━━━━━━━━━━━\u001b[0m \u001b[32m54.5/54.5 kB\u001b[0m \u001b[31m1.8 MB/s\u001b[0m eta \u001b[36m0:00:00\u001b[0m\n",
      "\u001b[?25hRequirement already satisfied: charset-normalizer<4,>=2 in /usr/local/lib/python3.10/site-packages (from requests>=2.9.2->cloudscraper) (3.1.0)\n",
      "Requirement already satisfied: idna<4,>=2.5 in /usr/local/lib/python3.10/site-packages (from requests>=2.9.2->cloudscraper) (3.4)\n",
      "Requirement already satisfied: urllib3<1.27,>=1.21.1 in /usr/local/lib/python3.10/site-packages (from requests>=2.9.2->cloudscraper) (1.26.15)\n",
      "Requirement already satisfied: certifi>=2017.4.17 in /usr/local/lib/python3.10/site-packages (from requests>=2.9.2->cloudscraper) (2022.12.7)\n",
      "Installing collected packages: requests-toolbelt, cloudscraper\n",
      "Successfully installed cloudscraper-1.2.71 requests-toolbelt-1.0.0\n",
      "Note: you may need to restart the kernel to use updated packages.\n"
     ]
    }
   ],
   "source": [
    "pip install cloudscraper"
   ]
  },
  {
   "cell_type": "code",
   "execution_count": 203,
   "id": "6c049dd9",
   "metadata": {},
   "outputs": [
    {
     "name": "stdout",
     "output_type": "stream",
     "text": [
      "            date     price      open      high       low   volume\n",
      "0     11/03/2023  1,999.20  1,993.50  2,011.90  1,989.30         \n",
      "1     11/02/2023  1,993.50  1,992.00  1,999.20  1,986.30  158.65K\n",
      "2     11/01/2023  1,987.50  1,993.30  2,005.90  1,978.20  197.63K\n",
      "3     10/31/2023  1,994.30  2,005.60  2,017.70  1,987.40  214.78K\n",
      "4     10/30/2023  2,005.60  2,013.50  2,016.80  1,999.70  181.34K\n",
      "...          ...       ...       ...       ...       ...      ...\n",
      "3576  01/08/2010  1,138.90  1,131.50  1,140.00  1,119.50  212.62K\n",
      "3577  01/07/2010  1,133.70  1,139.00  1,139.50  1,128.70  121.15K\n",
      "3578  01/06/2010  1,136.50  1,118.50  1,141.00  1,116.80  176.90K\n",
      "3579  01/05/2010  1,118.70  1,122.00  1,129.60  1,115.50  156.41K\n",
      "3580  01/04/2010  1,118.30  1,099.00  1,124.60  1,093.80  155.48K\n",
      "\n",
      "[3581 rows x 6 columns]\n"
     ]
    }
   ],
   "source": [
    "import pandas as pd\n",
    "from bs4 import BeautifulSoup\n",
    "\n",
    "\n",
    "with open(\"/Users/ibulmnie/Documents/GitHub/GoldPricePrediction/crawl/html.txt\", \"r\", encoding='utf-8') as f:\n",
    "    html= f.read()\n",
    "\n",
    "# Phân tích HTML\n",
    "soup = BeautifulSoup(html, 'html.parser')\n",
    "\n",
    "# Khởi tạo các danh sách rỗng để lưu trữ dữ liệu\n",
    "dates = []\n",
    "prices = []\n",
    "opens = []\n",
    "highs = []\n",
    "lows = []\n",
    "volumes = []\n",
    "changes = []\n",
    "\n",
    "# Lặp qua các dòng <tr> và trích xuất dữ liệu\n",
    "for row in soup.find_all('tr'):\n",
    "    date_element = row.find('time')\n",
    "    date = date_element.text if date_element is not None else \"NaN\"\n",
    "    \n",
    "    price_element = row.find('td', {'class': re.compile('^datatable_cell__LJp3C datatable_cell--align-end__qgxDQ')})\n",
    "    price = price_element.text if price_element is not None else \"NaN\"\n",
    "    \n",
    "    open_element = row.find_all('td', {'class': 'text-v2-black text-right text-sm font-normal leading-5 align-middle min-w-[77px] rtl:text-right'})[0]\n",
    "    open_value = open_element.text if open_element is not None else \"NaN\"\n",
    "    \n",
    "    high_element = row.find_all('td', {'class': 'text-v2-black text-right text-sm font-normal leading-5 align-middle min-w-[77px] rtl:text-right'})[1]\n",
    "    high = high_element.text if high_element is not None else \"Nan\"\n",
    "    \n",
    "    low_element = row.find_all('td', {'class': 'text-v2-black text-right text-sm font-normal leading-5 align-middle min-w-[77px] rtl:text-right'})[2]\n",
    "    low = low_element.text if low_element is not None else \"Nan\"\n",
    "    \n",
    "    volume_element = row.find('td', {'data-test': 'relative-most-active-vol'})\n",
    "    volume = volume_element.text if volume_element is not None else \"Nan\"\n",
    "    \n",
    "    # Thêm dữ liệu vào danh sách\n",
    "    dates.append(date)\n",
    "    prices.append(price)\n",
    "    opens.append(open_value)\n",
    "    highs.append(high)\n",
    "    lows.append(low)\n",
    "    volumes.append(volume)\n",
    "    \n",
    "# Tạo DataFrame từ các danh sách\n",
    "data = {\n",
    "    \"date\": dates,\n",
    "    \"price\": prices,\n",
    "    \"open\" : opens,\n",
    "    \"high\": highs,\n",
    "    \"low\": lows,\n",
    "    \"volume\": volumes,\n",
    "}\n",
    "\n",
    "df = pd.DataFrame(data)\n",
    "\n",
    "# In ra DataFrame\n",
    "print(df)"
   ]
  },
  {
   "cell_type": "code",
   "execution_count": null,
   "id": "422a1566",
   "metadata": {},
   "outputs": [],
   "source": []
  }
 ],
 "metadata": {
  "kernelspec": {
   "display_name": "Python 3 (ipykernel)",
   "language": "python",
   "name": "python3"
  },
  "language_info": {
   "codemirror_mode": {
    "name": "ipython",
    "version": 3
   },
   "file_extension": ".py",
   "mimetype": "text/x-python",
   "name": "python",
   "nbconvert_exporter": "python",
   "pygments_lexer": "ipython3",
   "version": "3.10.13"
  }
 },
 "nbformat": 4,
 "nbformat_minor": 5
}
