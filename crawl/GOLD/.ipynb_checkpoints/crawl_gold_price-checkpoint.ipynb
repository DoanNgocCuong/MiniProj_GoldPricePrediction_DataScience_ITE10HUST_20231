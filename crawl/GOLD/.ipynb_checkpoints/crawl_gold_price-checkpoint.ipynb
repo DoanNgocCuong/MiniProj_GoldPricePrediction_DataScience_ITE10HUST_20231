{
 "cells": [
  {
   "cell_type": "code",
   "execution_count": 208,
   "id": "55f29166",
   "metadata": {},
   "outputs": [
    {
     "name": "stdout",
     "output_type": "stream",
     "text": [
      "Collecting git+https://github.com/alvarobartt/investpy@403-patch\n",
      "  Cloning https://github.com/alvarobartt/investpy (to revision 403-patch) to /private/var/folders/k9/xss4jl9s24sg7_7zhcmrp2g00000gn/T/pip-req-build-riz2ladp\n",
      "  Running command git clone --filter=blob:none --quiet https://github.com/alvarobartt/investpy /private/var/folders/k9/xss4jl9s24sg7_7zhcmrp2g00000gn/T/pip-req-build-riz2ladp\n",
      "  Running command git checkout -b 403-patch --track origin/403-patch\n",
      "  Switched to a new branch '403-patch'\n",
      "  branch '403-patch' set up to track 'origin/403-patch'.\n",
      "  Resolved https://github.com/alvarobartt/investpy to commit 4c682ccc6fd4dfa0f31f2bfd54d207ce545d5907\n",
      "  Preparing metadata (setup.py) ... \u001b[?25ldone\n",
      "\u001b[?25hRequirement already satisfied: Unidecode>=1.1.1 in /usr/local/lib/python3.11/site-packages (from investpy==1.1.0) (1.3.7)\n",
      "Requirement already satisfied: setuptools>=41.2.0 in /usr/local/lib/python3.11/site-packages (from investpy==1.1.0) (68.2.2)\n",
      "Requirement already satisfied: numpy>=1.17.2 in /usr/local/lib/python3.11/site-packages (from investpy==1.1.0) (1.26.0)\n",
      "Requirement already satisfied: pandas>=0.25.1 in /usr/local/lib/python3.11/site-packages (from investpy==1.1.0) (2.1.2)\n",
      "Requirement already satisfied: lxml>=4.4.1 in /usr/local/lib/python3.11/site-packages (from investpy==1.1.0) (4.9.3)\n",
      "Requirement already satisfied: requests>=2.22.0 in /usr/local/lib/python3.11/site-packages (from investpy==1.1.0) (2.31.0)\n",
      "Requirement already satisfied: pytz>=2019.3 in /usr/local/lib/python3.11/site-packages (from investpy==1.1.0) (2023.3.post1)\n",
      "Requirement already satisfied: python-dateutil>=2.8.2 in /Users/ibulmnie/Library/Python/3.11/lib/python/site-packages (from pandas>=0.25.1->investpy==1.1.0) (2.8.2)\n",
      "Requirement already satisfied: tzdata>=2022.1 in /usr/local/lib/python3.11/site-packages (from pandas>=0.25.1->investpy==1.1.0) (2023.3)\n",
      "Requirement already satisfied: charset-normalizer<4,>=2 in /usr/local/lib/python3.11/site-packages (from requests>=2.22.0->investpy==1.1.0) (3.3.0)\n",
      "Requirement already satisfied: idna<4,>=2.5 in /usr/local/lib/python3.11/site-packages (from requests>=2.22.0->investpy==1.1.0) (3.4)\n",
      "Requirement already satisfied: urllib3<3,>=1.21.1 in /usr/local/lib/python3.11/site-packages (from requests>=2.22.0->investpy==1.1.0) (2.0.6)\n",
      "Requirement already satisfied: certifi>=2017.4.17 in /usr/local/lib/python3.11/site-packages (from requests>=2.22.0->investpy==1.1.0) (2023.7.22)\n",
      "Requirement already satisfied: six>=1.5 in /usr/local/lib/python3.11/site-packages (from python-dateutil>=2.8.2->pandas>=0.25.1->investpy==1.1.0) (1.16.0)\n",
      "Building wheels for collected packages: investpy\n",
      "  Building wheel for investpy (setup.py) ... \u001b[?25ldone\n",
      "\u001b[?25h  Created wheel for investpy: filename=investpy-1.1.0-py3-none-any.whl size=4486963 sha256=8535512a2986b67b14750dd7cb28f949753b9a8c3b6083ab00d72d74fdfb99e1\n",
      "  Stored in directory: /private/var/folders/k9/xss4jl9s24sg7_7zhcmrp2g00000gn/T/pip-ephem-wheel-cache-ygxf2pf1/wheels/9b/00/ad/72caa99861355644262f9c277cdf7f4ac809578b5e8ecc74b5\n",
      "Successfully built investpy\n",
      "Installing collected packages: investpy\n",
      "  Attempting uninstall: investpy\n",
      "    Found existing installation: investpy 1.0.8\n",
      "    Uninstalling investpy-1.0.8:\n",
      "      Successfully uninstalled investpy-1.0.8\n",
      "Successfully installed investpy-1.1.0\n"
     ]
    }
   ],
   "source": [
    "!pip install git+https://github.com/alvarobartt/investpy@403-patch"
   ]
  },
  {
   "cell_type": "code",
   "execution_count": 209,
   "id": "aae10a8d",
   "metadata": {},
   "outputs": [
    {
     "name": "stdout",
     "output_type": "stream",
     "text": [
      "Collecting cloudscraper\n",
      "  Using cached cloudscraper-1.2.71-py2.py3-none-any.whl (99 kB)\n",
      "Collecting pyparsing>=2.4.7 (from cloudscraper)\n",
      "  Downloading pyparsing-3.1.1-py3-none-any.whl.metadata (5.1 kB)\n",
      "Requirement already satisfied: requests>=2.9.2 in /usr/local/lib/python3.11/site-packages (from cloudscraper) (2.31.0)\n",
      "Collecting requests-toolbelt>=0.9.1 (from cloudscraper)\n",
      "  Using cached requests_toolbelt-1.0.0-py2.py3-none-any.whl (54 kB)\n",
      "Requirement already satisfied: charset-normalizer<4,>=2 in /usr/local/lib/python3.11/site-packages (from requests>=2.9.2->cloudscraper) (3.3.0)\n",
      "Requirement already satisfied: idna<4,>=2.5 in /usr/local/lib/python3.11/site-packages (from requests>=2.9.2->cloudscraper) (3.4)\n",
      "Requirement already satisfied: urllib3<3,>=1.21.1 in /usr/local/lib/python3.11/site-packages (from requests>=2.9.2->cloudscraper) (2.0.6)\n",
      "Requirement already satisfied: certifi>=2017.4.17 in /usr/local/lib/python3.11/site-packages (from requests>=2.9.2->cloudscraper) (2023.7.22)\n",
      "Downloading pyparsing-3.1.1-py3-none-any.whl (103 kB)\n",
      "\u001b[2K   \u001b[38;2;114;156;31m━━━━━━━━━━━━━━━━━━━━━━━━━━━━━━━━━━━━━━━━\u001b[0m \u001b[32m103.1/103.1 kB\u001b[0m \u001b[31m1.1 MB/s\u001b[0m eta \u001b[36m0:00:00\u001b[0mm eta \u001b[36m0:00:01\u001b[0m36m0:00:01\u001b[0m\n",
      "\u001b[?25hInstalling collected packages: pyparsing, requests-toolbelt, cloudscraper\n",
      "Successfully installed cloudscraper-1.2.71 pyparsing-3.1.1 requests-toolbelt-1.0.0\n"
     ]
    }
   ],
   "source": [
    "!pip install cloudscraper"
   ]
  },
  {
   "cell_type": "code",
   "execution_count": 16,
   "id": "6c049dd9",
   "metadata": {},
   "outputs": [],
   "source": [
    "import pandas as pd\n",
    "from bs4 import BeautifulSoup\n",
    "import re\n",
    "\n",
    "with open(\"/Users/ibulmnie/Documents/GitHub/GoldPricePrediction/crawl/GOLD/GOLD_html.txt\", \"r\", encoding='utf-8') as f:\n",
    "    html= f.read()\n",
    "\n",
    "# Phân tích HTML\n",
    "soup = BeautifulSoup(html, 'html.parser')\n",
    "\n",
    "# Khởi tạo các danh sách rỗng để lưu trữ dữ liệu\n",
    "dates = []\n",
    "prices = []\n",
    "opens = []\n",
    "highs = []\n",
    "lows = []\n",
    "volumes = []\n",
    "changes = []\n",
    "\n",
    "# Lặp qua các dòng <tr> và trích xuất dữ liệu\n",
    "for row in soup.find_all('tr'):\n",
    "    date_element = row.find('time')\n",
    "    date = date_element.text if date_element is not None else \"NaN\"\n",
    "    # Định dạng lại ngày theo \"dd/mm/yyyy\"\n",
    "    formatted_date = pd.to_datetime(date, format='%m/%d/%Y').strftime('%d/%m/%Y')\n",
    "    \n",
    "    price_element = row.find('td', {'class': re.compile('^datatable_cell__LJp3C datatable_cell--align-end__qgxDQ')})\n",
    "    price = float(price_element.text.replace(',', '')) if price_element is not None else \"NaN\"\n",
    "    \n",
    "    open_element = row.find_all('td', {'class': 'text-v2-black text-right text-sm font-normal leading-5 align-middle min-w-[77px] rtl:text-right'})[0]\n",
    "    open_value = float(open_element.text.replace(',', '')) if open_element is not None else \"NaN\"\n",
    "    \n",
    "    high_element = row.find_all('td', {'class': 'text-v2-black text-right text-sm font-normal leading-5 align-middle min-w-[77px] rtl:text-right'})[1]\n",
    "    high = float(high_element.text.replace(',', '')) if high_element is not None else \"Nan\"\n",
    "    \n",
    "    low_element = row.find_all('td', {'class': 'text-v2-black text-right text-sm font-normal leading-5 align-middle min-w-[77px] rtl:text-right'})[2]\n",
    "    low = float(low_element.text.replace(',', '')) if low_element is not None else \"Nan\"\n",
    "    \n",
    "    \n",
    "    # Thêm dữ liệu vào danh sách\n",
    "    dates.append(formatted_date)\n",
    "    prices.append(price)\n",
    "    opens.append(open_value)\n",
    "    highs.append(high)\n",
    "    lows.append(low)\n",
    "    \n",
    "# Tạo DataFrame từ các danh sách\n",
    "data = {\n",
    "    \"date\": dates,\n",
    "    \"GOLD_price\": prices,\n",
    "    \"GOLD_open\" : opens,\n",
    "    \"GOLD_high\": highs,\n",
    "    \"GOLD_low\": lows,\n",
    "}\n",
    "\n",
    "df = pd.DataFrame(data)"
   ]
  },
  {
   "cell_type": "code",
   "execution_count": 17,
   "id": "422a1566",
   "metadata": {},
   "outputs": [
    {
     "data": {
      "text/html": [
       "<div>\n",
       "<style scoped>\n",
       "    .dataframe tbody tr th:only-of-type {\n",
       "        vertical-align: middle;\n",
       "    }\n",
       "\n",
       "    .dataframe tbody tr th {\n",
       "        vertical-align: top;\n",
       "    }\n",
       "\n",
       "    .dataframe thead th {\n",
       "        text-align: right;\n",
       "    }\n",
       "</style>\n",
       "<table border=\"1\" class=\"dataframe\">\n",
       "  <thead>\n",
       "    <tr style=\"text-align: right;\">\n",
       "      <th></th>\n",
       "      <th>date</th>\n",
       "      <th>GOLD_price</th>\n",
       "      <th>GOLD_open</th>\n",
       "      <th>GOLD_high</th>\n",
       "      <th>GOLD_low</th>\n",
       "    </tr>\n",
       "  </thead>\n",
       "  <tbody>\n",
       "    <tr>\n",
       "      <th>0</th>\n",
       "      <td>03/11/2023</td>\n",
       "      <td>1999.2</td>\n",
       "      <td>1993.5</td>\n",
       "      <td>2011.9</td>\n",
       "      <td>1989.3</td>\n",
       "    </tr>\n",
       "    <tr>\n",
       "      <th>1</th>\n",
       "      <td>02/11/2023</td>\n",
       "      <td>1993.5</td>\n",
       "      <td>1992.0</td>\n",
       "      <td>1999.2</td>\n",
       "      <td>1986.3</td>\n",
       "    </tr>\n",
       "    <tr>\n",
       "      <th>2</th>\n",
       "      <td>01/11/2023</td>\n",
       "      <td>1987.5</td>\n",
       "      <td>1993.3</td>\n",
       "      <td>2005.9</td>\n",
       "      <td>1978.2</td>\n",
       "    </tr>\n",
       "    <tr>\n",
       "      <th>3</th>\n",
       "      <td>31/10/2023</td>\n",
       "      <td>1994.3</td>\n",
       "      <td>2005.6</td>\n",
       "      <td>2017.7</td>\n",
       "      <td>1987.4</td>\n",
       "    </tr>\n",
       "    <tr>\n",
       "      <th>4</th>\n",
       "      <td>30/10/2023</td>\n",
       "      <td>2005.6</td>\n",
       "      <td>2013.5</td>\n",
       "      <td>2016.8</td>\n",
       "      <td>1999.7</td>\n",
       "    </tr>\n",
       "    <tr>\n",
       "      <th>...</th>\n",
       "      <td>...</td>\n",
       "      <td>...</td>\n",
       "      <td>...</td>\n",
       "      <td>...</td>\n",
       "      <td>...</td>\n",
       "    </tr>\n",
       "    <tr>\n",
       "      <th>3576</th>\n",
       "      <td>08/01/2010</td>\n",
       "      <td>1138.9</td>\n",
       "      <td>1131.5</td>\n",
       "      <td>1140.0</td>\n",
       "      <td>1119.5</td>\n",
       "    </tr>\n",
       "    <tr>\n",
       "      <th>3577</th>\n",
       "      <td>07/01/2010</td>\n",
       "      <td>1133.7</td>\n",
       "      <td>1139.0</td>\n",
       "      <td>1139.5</td>\n",
       "      <td>1128.7</td>\n",
       "    </tr>\n",
       "    <tr>\n",
       "      <th>3578</th>\n",
       "      <td>06/01/2010</td>\n",
       "      <td>1136.5</td>\n",
       "      <td>1118.5</td>\n",
       "      <td>1141.0</td>\n",
       "      <td>1116.8</td>\n",
       "    </tr>\n",
       "    <tr>\n",
       "      <th>3579</th>\n",
       "      <td>05/01/2010</td>\n",
       "      <td>1118.7</td>\n",
       "      <td>1122.0</td>\n",
       "      <td>1129.6</td>\n",
       "      <td>1115.5</td>\n",
       "    </tr>\n",
       "    <tr>\n",
       "      <th>3580</th>\n",
       "      <td>04/01/2010</td>\n",
       "      <td>1118.3</td>\n",
       "      <td>1099.0</td>\n",
       "      <td>1124.6</td>\n",
       "      <td>1093.8</td>\n",
       "    </tr>\n",
       "  </tbody>\n",
       "</table>\n",
       "<p>3581 rows × 5 columns</p>\n",
       "</div>"
      ],
      "text/plain": [
       "            date  GOLD_price  GOLD_open  GOLD_high  GOLD_low\n",
       "0     03/11/2023      1999.2     1993.5     2011.9    1989.3\n",
       "1     02/11/2023      1993.5     1992.0     1999.2    1986.3\n",
       "2     01/11/2023      1987.5     1993.3     2005.9    1978.2\n",
       "3     31/10/2023      1994.3     2005.6     2017.7    1987.4\n",
       "4     30/10/2023      2005.6     2013.5     2016.8    1999.7\n",
       "...          ...         ...        ...        ...       ...\n",
       "3576  08/01/2010      1138.9     1131.5     1140.0    1119.5\n",
       "3577  07/01/2010      1133.7     1139.0     1139.5    1128.7\n",
       "3578  06/01/2010      1136.5     1118.5     1141.0    1116.8\n",
       "3579  05/01/2010      1118.7     1122.0     1129.6    1115.5\n",
       "3580  04/01/2010      1118.3     1099.0     1124.6    1093.8\n",
       "\n",
       "[3581 rows x 5 columns]"
      ]
     },
     "execution_count": 17,
     "metadata": {},
     "output_type": "execute_result"
    }
   ],
   "source": [
    "df"
   ]
  },
  {
   "cell_type": "code",
   "execution_count": 18,
   "id": "dcb369f6",
   "metadata": {},
   "outputs": [
    {
     "data": {
      "text/plain": [
       "date           object\n",
       "GOLD_price    float64\n",
       "GOLD_open     float64\n",
       "GOLD_high     float64\n",
       "GOLD_low      float64\n",
       "dtype: object"
      ]
     },
     "execution_count": 18,
     "metadata": {},
     "output_type": "execute_result"
    }
   ],
   "source": [
    "df.dtypes"
   ]
  },
  {
   "cell_type": "code",
   "execution_count": 19,
   "id": "fa97b2ec",
   "metadata": {},
   "outputs": [
    {
     "name": "stdout",
     "output_type": "stream",
     "text": [
      "Done!!\n"
     ]
    }
   ],
   "source": [
    "df.to_csv('gold.csv', index = False) \n",
    "print(\"Done!!\")"
   ]
  },
  {
   "cell_type": "code",
   "execution_count": null,
   "id": "62649a8b",
   "metadata": {},
   "outputs": [],
   "source": []
  }
 ],
 "metadata": {
  "kernelspec": {
   "display_name": "Python 3 (ipykernel)",
   "language": "python",
   "name": "python3"
  },
  "language_info": {
   "codemirror_mode": {
    "name": "ipython",
    "version": 3
   },
   "file_extension": ".py",
   "mimetype": "text/x-python",
   "name": "python",
   "nbconvert_exporter": "python",
   "pygments_lexer": "ipython3",
   "version": "3.10.13"
  }
 },
 "nbformat": 4,
 "nbformat_minor": 5
}
