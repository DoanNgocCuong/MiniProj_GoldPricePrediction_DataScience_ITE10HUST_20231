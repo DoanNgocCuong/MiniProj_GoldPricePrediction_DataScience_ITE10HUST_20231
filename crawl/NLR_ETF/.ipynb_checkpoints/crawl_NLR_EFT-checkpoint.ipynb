{
 "cells": [
  {
   "cell_type": "code",
   "execution_count": 11,
   "id": "aae10a8d",
   "metadata": {},
   "outputs": [
    {
     "name": "stdout",
     "output_type": "stream",
     "text": [
      "Requirement already satisfied: cloudscraper in /usr/local/lib/python3.11/site-packages (1.2.71)\r\n",
      "Requirement already satisfied: pyparsing>=2.4.7 in /usr/local/lib/python3.11/site-packages (from cloudscraper) (3.1.1)\r\n",
      "Requirement already satisfied: requests>=2.9.2 in /usr/local/lib/python3.11/site-packages (from cloudscraper) (2.31.0)\r\n",
      "Requirement already satisfied: requests-toolbelt>=0.9.1 in /usr/local/lib/python3.11/site-packages (from cloudscraper) (1.0.0)\r\n",
      "Requirement already satisfied: charset-normalizer<4,>=2 in /usr/local/lib/python3.11/site-packages (from requests>=2.9.2->cloudscraper) (3.3.0)\r\n",
      "Requirement already satisfied: idna<4,>=2.5 in /usr/local/lib/python3.11/site-packages (from requests>=2.9.2->cloudscraper) (3.4)\r\n",
      "Requirement already satisfied: urllib3<3,>=1.21.1 in /usr/local/lib/python3.11/site-packages (from requests>=2.9.2->cloudscraper) (2.0.6)\r\n",
      "Requirement already satisfied: certifi>=2017.4.17 in /usr/local/lib/python3.11/site-packages (from requests>=2.9.2->cloudscraper) (2023.7.22)\r\n"
     ]
    }
   ],
   "source": [
    "!pip install cloudscraper"
   ]
  },
  {
   "cell_type": "code",
   "execution_count": 12,
   "id": "6c049dd9",
   "metadata": {},
   "outputs": [],
   "source": [
    "import pandas as pd\n",
    "from bs4 import BeautifulSoup\n",
    "import re\n",
    "\n",
    "with open(\"/Users/ibulmnie/Documents/GitHub/GoldPricePrediction/crawl/NLR_ETF/NLR_ETF.txt\", \"r\", encoding='utf-8') as f:\n",
    "    html= f.read()\n",
    "\n",
    "# Phân tích HTML\n",
    "soup = BeautifulSoup(html, 'html.parser')\n",
    "\n",
    "# Khởi tạo các danh sách rỗng để lưu trữ dữ liệu\n",
    "dates = []\n",
    "prices = []\n",
    "opens = []\n",
    "highs = []\n",
    "lows = []\n",
    "volumes = []\n",
    "changes = []\n",
    "\n",
    "# Lặp qua các dòng <tr> và trích xuất dữ liệu\n",
    "for row in soup.find_all('tr'):\n",
    "    date_element = row.find('time')\n",
    "    date = date_element.text if date_element is not None else \"NaN\"\n",
    "    # Định dạng lại ngày theo \"dd/mm/yyyy\"\n",
    "    formatted_date = pd.to_datetime(date, format='%m/%d/%Y').strftime('%d/%m/%Y')\n",
    "    \n",
    "    price_element = row.find('td', {'class': re.compile('^datatable_cell__LJp3C datatable_cell--align-end__qgxDQ')})\n",
    "    price = float(price_element.text) if price_element is not None else \"NaN\"\n",
    "    \n",
    "    \n",
    "    # Thêm dữ liệu vào danh sách\n",
    "    dates.append(formatted_date)\n",
    "    prices.append(price)\n",
    "\n",
    "    \n",
    "# Tạo DataFrame từ các danh sách\n",
    "data = {\n",
    "    \"date\": dates,\n",
    "    \"NLR_EFT\": prices,\n",
    "}\n",
    "\n",
    "df = pd.DataFrame(data)"
   ]
  },
  {
   "cell_type": "code",
   "execution_count": 13,
   "id": "422a1566",
   "metadata": {},
   "outputs": [
    {
     "data": {
      "text/html": [
       "<div>\n",
       "<style scoped>\n",
       "    .dataframe tbody tr th:only-of-type {\n",
       "        vertical-align: middle;\n",
       "    }\n",
       "\n",
       "    .dataframe tbody tr th {\n",
       "        vertical-align: top;\n",
       "    }\n",
       "\n",
       "    .dataframe thead th {\n",
       "        text-align: right;\n",
       "    }\n",
       "</style>\n",
       "<table border=\"1\" class=\"dataframe\">\n",
       "  <thead>\n",
       "    <tr style=\"text-align: right;\">\n",
       "      <th></th>\n",
       "      <th>date</th>\n",
       "      <th>NLR_EFT</th>\n",
       "    </tr>\n",
       "  </thead>\n",
       "  <tbody>\n",
       "    <tr>\n",
       "      <th>0</th>\n",
       "      <td>03/11/2023</td>\n",
       "      <td>71.36</td>\n",
       "    </tr>\n",
       "    <tr>\n",
       "      <th>1</th>\n",
       "      <td>02/11/2023</td>\n",
       "      <td>72.14</td>\n",
       "    </tr>\n",
       "    <tr>\n",
       "      <th>2</th>\n",
       "      <td>01/11/2023</td>\n",
       "      <td>70.98</td>\n",
       "    </tr>\n",
       "    <tr>\n",
       "      <th>3</th>\n",
       "      <td>31/10/2023</td>\n",
       "      <td>69.93</td>\n",
       "    </tr>\n",
       "    <tr>\n",
       "      <th>4</th>\n",
       "      <td>30/10/2023</td>\n",
       "      <td>68.35</td>\n",
       "    </tr>\n",
       "    <tr>\n",
       "      <th>...</th>\n",
       "      <td>...</td>\n",
       "      <td>...</td>\n",
       "    </tr>\n",
       "    <tr>\n",
       "      <th>3409</th>\n",
       "      <td>08/01/2010</td>\n",
       "      <td>71.19</td>\n",
       "    </tr>\n",
       "    <tr>\n",
       "      <th>3410</th>\n",
       "      <td>07/01/2010</td>\n",
       "      <td>70.62</td>\n",
       "    </tr>\n",
       "    <tr>\n",
       "      <th>3411</th>\n",
       "      <td>06/01/2010</td>\n",
       "      <td>71.01</td>\n",
       "    </tr>\n",
       "    <tr>\n",
       "      <th>3412</th>\n",
       "      <td>05/01/2010</td>\n",
       "      <td>70.14</td>\n",
       "    </tr>\n",
       "    <tr>\n",
       "      <th>3413</th>\n",
       "      <td>04/01/2010</td>\n",
       "      <td>69.57</td>\n",
       "    </tr>\n",
       "  </tbody>\n",
       "</table>\n",
       "<p>3414 rows × 2 columns</p>\n",
       "</div>"
      ],
      "text/plain": [
       "            date  NLR_EFT\n",
       "0     03/11/2023    71.36\n",
       "1     02/11/2023    72.14\n",
       "2     01/11/2023    70.98\n",
       "3     31/10/2023    69.93\n",
       "4     30/10/2023    68.35\n",
       "...          ...      ...\n",
       "3409  08/01/2010    71.19\n",
       "3410  07/01/2010    70.62\n",
       "3411  06/01/2010    71.01\n",
       "3412  05/01/2010    70.14\n",
       "3413  04/01/2010    69.57\n",
       "\n",
       "[3414 rows x 2 columns]"
      ]
     },
     "execution_count": 13,
     "metadata": {},
     "output_type": "execute_result"
    }
   ],
   "source": [
    "df"
   ]
  },
  {
   "cell_type": "code",
   "execution_count": 14,
   "id": "96398621",
   "metadata": {},
   "outputs": [
    {
     "data": {
      "text/plain": [
       "date        object\n",
       "NLR_EFT    float64\n",
       "dtype: object"
      ]
     },
     "execution_count": 14,
     "metadata": {},
     "output_type": "execute_result"
    }
   ],
   "source": [
    "df.dtypes"
   ]
  },
  {
   "cell_type": "code",
   "execution_count": 15,
   "id": "fa97b2ec",
   "metadata": {},
   "outputs": [
    {
     "name": "stdout",
     "output_type": "stream",
     "text": [
      "Done!!\n"
     ]
    }
   ],
   "source": [
    "df.to_csv('NLR_EFT.csv', index = False) \n",
    "print(\"Done!!\")"
   ]
  },
  {
   "cell_type": "code",
   "execution_count": null,
   "id": "62649a8b",
   "metadata": {},
   "outputs": [],
   "source": []
  }
 ],
 "metadata": {
  "kernelspec": {
   "display_name": "Python 3 (ipykernel)",
   "language": "python",
   "name": "python3"
  },
  "language_info": {
   "codemirror_mode": {
    "name": "ipython",
    "version": 3
   },
   "file_extension": ".py",
   "mimetype": "text/x-python",
   "name": "python",
   "nbconvert_exporter": "python",
   "pygments_lexer": "ipython3",
   "version": "3.10.13"
  }
 },
 "nbformat": 4,
 "nbformat_minor": 5
}
