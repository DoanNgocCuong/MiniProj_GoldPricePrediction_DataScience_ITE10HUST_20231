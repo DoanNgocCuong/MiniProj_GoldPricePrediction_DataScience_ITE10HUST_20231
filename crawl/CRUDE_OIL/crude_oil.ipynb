{
 "cells": [
  {
   "cell_type": "code",
   "execution_count": 17,
   "metadata": {},
   "outputs": [],
   "source": [
    "from selenium import webdriver\n",
    "from selenium.webdriver.edge.options import Options\n",
    "import pandas as pd\n",
    "from selenium.webdriver.common.by import By\n",
    "import time\n"
   ]
  },
  {
   "cell_type": "code",
   "execution_count": 18,
   "metadata": {},
   "outputs": [],
   "source": [
    "options=Options()\n",
    "options.add_experimental_option('detach',True)\n",
    "driver=webdriver.Edge(options=options)\n",
    "driver.get('https://www.investing.com/commodities/crude-oil-historical-data')\n"
   ]
  },
  {
   "cell_type": "code",
   "execution_count": 19,
   "metadata": {},
   "outputs": [],
   "source": [
    "css_selector='#__next > div.desktop\\:relative.desktop\\:bg-background-default > div.relative.flex > div.pt-5.md\\:pt-10.xl\\:container.xl\\:mx-auto.font-sans-v2.antialiased.text-\\[\\#232526\\].grid.grid-cols-1.md\\:grid-cols-\\[1fr_72px\\].lg\\:grid-cols-\\[1fr_420px\\].px-4.sm\\:px-6.md\\:px-7.md\\:gap-6.lg\\:px-8.lg\\:gap-8.flex-1 > div.min-w-0 > div.mb-4.md\\:mb-10 > div.sm\\:flex.sm\\:items-end.sm\\:justify-between > div.relative.flex.items-center.md\\:gap-6 > div'\n",
    "setday = driver.find_elements(By.CSS_SELECTOR, css_selector)\n",
    "setday[1].click()\n"
   ]
  },
  {
   "cell_type": "markdown",
   "metadata": {},
   "source": [
    "NativeDateInputV2_root__uAIu0 relative flex py-2 px-[14px] gap-[14px] flex-1 border border-solid rounded bg-[#FFF] shadow-select items-center \n",
    "\n"
   ]
  },
  {
   "cell_type": "code",
   "execution_count": 26,
   "metadata": {},
   "outputs": [],
   "source": [
    "time.sleep(3)\n",
    "start_day=driver.find_elements(By.CSS_SELECTOR,'#__next > div.desktop\\:relative.desktop\\:bg-background-default > div.relative.flex > div.pt-5.md\\:pt-10.xl\\:container.xl\\:mx-auto.font-sans-v2.antialiased.text-\\[\\#232526\\].grid.grid-cols-1.md\\:grid-cols-\\[1fr_72px\\].lg\\:grid-cols-\\[1fr_420px\\].px-4.sm\\:px-6.md\\:px-7.md\\:gap-6.lg\\:px-8.lg\\:gap-8.flex-1 > div.min-w-0 > div.mb-4.md\\:mb-10 > div.sm\\:flex.sm\\:items-end.sm\\:justify-between > div.relative.flex.items-center.md\\:gap-6 > div.absolute.inline-flex.p-4.flex-col.items-end.gap-4.rounded.border.border-solid.bg-\\[\\#fff\\].shadow-secondary.top-\\[42px\\].right-0.z-5 > div.flex.items-start.gap-3 > div:nth-child(1)')\n",
    "start=start_day[0].click()\n"
   ]
  },
  {
   "cell_type": "code",
   "execution_count": 27,
   "metadata": {},
   "outputs": [],
   "source": [
    "apply=driver.find_elements(By.CSS_SELECTOR,'#__next > div.desktop\\:relative.desktop\\:bg-background-default > div.relative.flex > div.pt-5.md\\:pt-10.xl\\:container.xl\\:mx-auto.font-sans-v2.antialiased.text-\\[\\#232526\\].grid.grid-cols-1.md\\:grid-cols-\\[1fr_72px\\].lg\\:grid-cols-\\[1fr_420px\\].px-4.sm\\:px-6.md\\:px-7.md\\:gap-6.lg\\:px-8.lg\\:gap-8.flex-1 > div.min-w-0 > div.mb-4.md\\:mb-10 > div.sm\\:flex.sm\\:items-end.sm\\:justify-between > div.relative.flex.items-center.md\\:gap-6 > div.absolute.inline-flex.p-4.flex-col.items-end.gap-4.rounded.border.border-solid.bg-\\[\\#fff\\].shadow-secondary.top-\\[42px\\].right-0.z-5 > div.flex.py-2\\.5.pl-4.pr-6.items-center.gap-3.rounded.bg-v2-blue.shadow-button.hover\\:bg-\\[\\#116BCC\\].cursor-pointer')\n",
    "apply[0].click()\n"
   ]
  },
  {
   "cell_type": "code",
   "execution_count": 28,
   "metadata": {},
   "outputs": [],
   "source": [
    "date=driver.find_elements('xpath','//*[@id=\"__next\"]/div[2]/div[2]/div[2]/div[1]/div[3]/div[3]/table/tbody/tr/td/time')\n",
    "prices=driver.find_elements('xpath','//*[@id=\"__next\"]/div[2]/div[2]/div[2]/div[1]/div[3]/div[3]/table/tbody/tr/td[2]')\n",
    "open=driver.find_elements('xpath','//*[@id=\"__next\"]/div[2]/div[2]/div[2]/div[1]/div[3]/div[3]/table/tbody/tr/td[3]')\n",
    "high=driver.find_elements('xpath','//*[@id=\"__next\"]/div[2]/div[2]/div[2]/div[1]/div[3]/div[3]/table/tbody/tr/td[4]')\n",
    "low=driver.find_elements('xpath','//*[@id=\"__next\"]/div[2]/div[2]/div[2]/div[1]/div[3]/div[3]/table/tbody/tr/td[5]')\n",
    "vol=driver.find_elements('xpath','//*[@id=\"__next\"]/div[2]/div[2]/div[2]/div[1]/div[3]/div[3]/table/tbody/tr/td[6]')\n",
    "change=driver.find_elements('xpath','//*[@id=\"__next\"]/div[2]/div[2]/div[2]/div[1]/div[3]/div[3]/table/tbody/tr/td[7]')"
   ]
  },
  {
   "cell_type": "code",
   "execution_count": 29,
   "metadata": {},
   "outputs": [],
   "source": [
    "data_len=len(date)\n",
    "save={\n",
    "    'time':[],\n",
    "    'price':[],\n",
    "    'open':[],\n",
    "    'high':[],\n",
    "    'low':[],\n",
    "    'vol':[],\n",
    "    'change':[]\n",
    "}\n",
    "for day in range(data_len):\n",
    "    \n",
    "    save['time'].append(date[day].text)\n",
    "    save['price'].append(prices[day].text)\n",
    "    save['open'].append(open[day].text)\n",
    "    save['high'].append(high[day].text)\n",
    "    save['low'].append(low[day].text)\n",
    "    save['vol'].append(vol[day].text)\n",
    "    save['change'].append(change[day].text)\n",
    "df=pd.DataFrame(save)"
   ]
  },
  {
   "cell_type": "code",
   "execution_count": null,
   "metadata": {},
   "outputs": [],
   "source": [
    "df.to_csv('crude_oil.csv', index=False)"
   ]
  },
  {
   "cell_type": "code",
   "execution_count": 30,
   "metadata": {},
   "outputs": [
    {
     "data": {
      "text/html": [
       "<div>\n",
       "<style scoped>\n",
       "    .dataframe tbody tr th:only-of-type {\n",
       "        vertical-align: middle;\n",
       "    }\n",
       "\n",
       "    .dataframe tbody tr th {\n",
       "        vertical-align: top;\n",
       "    }\n",
       "\n",
       "    .dataframe thead th {\n",
       "        text-align: right;\n",
       "    }\n",
       "</style>\n",
       "<table border=\"1\" class=\"dataframe\">\n",
       "  <thead>\n",
       "    <tr style=\"text-align: right;\">\n",
       "      <th></th>\n",
       "      <th>time</th>\n",
       "      <th>price</th>\n",
       "      <th>open</th>\n",
       "      <th>high</th>\n",
       "      <th>low</th>\n",
       "      <th>vol</th>\n",
       "      <th>change</th>\n",
       "    </tr>\n",
       "  </thead>\n",
       "  <tbody>\n",
       "    <tr>\n",
       "      <th>0</th>\n",
       "      <td>11/13/2023</td>\n",
       "      <td>77.28</td>\n",
       "      <td>76.91</td>\n",
       "      <td>77.61</td>\n",
       "      <td>76.20</td>\n",
       "      <td></td>\n",
       "      <td>+0.48%</td>\n",
       "    </tr>\n",
       "    <tr>\n",
       "      <th>1</th>\n",
       "      <td>11/12/2023</td>\n",
       "      <td>76.91</td>\n",
       "      <td>77.12</td>\n",
       "      <td>77.27</td>\n",
       "      <td>76.83</td>\n",
       "      <td></td>\n",
       "      <td>-0.34%</td>\n",
       "    </tr>\n",
       "    <tr>\n",
       "      <th>2</th>\n",
       "      <td>11/10/2023</td>\n",
       "      <td>77.17</td>\n",
       "      <td>75.59</td>\n",
       "      <td>77.73</td>\n",
       "      <td>75.31</td>\n",
       "      <td>267.00K</td>\n",
       "      <td>+1.89%</td>\n",
       "    </tr>\n",
       "    <tr>\n",
       "      <th>3</th>\n",
       "      <td>11/09/2023</td>\n",
       "      <td>75.74</td>\n",
       "      <td>75.65</td>\n",
       "      <td>77.16</td>\n",
       "      <td>75.21</td>\n",
       "      <td>303.43K</td>\n",
       "      <td>+0.54%</td>\n",
       "    </tr>\n",
       "    <tr>\n",
       "      <th>4</th>\n",
       "      <td>11/08/2023</td>\n",
       "      <td>75.33</td>\n",
       "      <td>77.12</td>\n",
       "      <td>77.53</td>\n",
       "      <td>74.91</td>\n",
       "      <td>429.65K</td>\n",
       "      <td>-2.64%</td>\n",
       "    </tr>\n",
       "    <tr>\n",
       "      <th>...</th>\n",
       "      <td>...</td>\n",
       "      <td>...</td>\n",
       "      <td>...</td>\n",
       "      <td>...</td>\n",
       "      <td>...</td>\n",
       "      <td>...</td>\n",
       "      <td>...</td>\n",
       "    </tr>\n",
       "    <tr>\n",
       "      <th>2565</th>\n",
       "      <td>02/24/2014</td>\n",
       "      <td>102.82</td>\n",
       "      <td>102.29</td>\n",
       "      <td>103.45</td>\n",
       "      <td>101.97</td>\n",
       "      <td>177.86K</td>\n",
       "      <td>+0.61%</td>\n",
       "    </tr>\n",
       "    <tr>\n",
       "      <th>2566</th>\n",
       "      <td>02/21/2014</td>\n",
       "      <td>102.20</td>\n",
       "      <td>102.87</td>\n",
       "      <td>102.92</td>\n",
       "      <td>101.69</td>\n",
       "      <td>173.26K</td>\n",
       "      <td>-0.70%</td>\n",
       "    </tr>\n",
       "    <tr>\n",
       "      <th>2567</th>\n",
       "      <td>02/20/2014</td>\n",
       "      <td>102.92</td>\n",
       "      <td>103.41</td>\n",
       "      <td>103.50</td>\n",
       "      <td>102.75</td>\n",
       "      <td>36.26K</td>\n",
       "      <td>-0.38%</td>\n",
       "    </tr>\n",
       "    <tr>\n",
       "      <th>2568</th>\n",
       "      <td>02/19/2014</td>\n",
       "      <td>103.31</td>\n",
       "      <td>103.14</td>\n",
       "      <td>103.80</td>\n",
       "      <td>102.40</td>\n",
       "      <td>116.16K</td>\n",
       "      <td>+0.86%</td>\n",
       "    </tr>\n",
       "    <tr>\n",
       "      <th>2569</th>\n",
       "      <td>02/18/2014</td>\n",
       "      <td>102.43</td>\n",
       "      <td>100.32</td>\n",
       "      <td>103.25</td>\n",
       "      <td>100.23</td>\n",
       "      <td>177.37K</td>\n",
       "      <td>+1.83%</td>\n",
       "    </tr>\n",
       "  </tbody>\n",
       "</table>\n",
       "<p>2570 rows × 7 columns</p>\n",
       "</div>"
      ],
      "text/plain": [
       "            time   price    open    high     low      vol  change\n",
       "0     11/13/2023   77.28   76.91   77.61   76.20           +0.48%\n",
       "1     11/12/2023   76.91   77.12   77.27   76.83           -0.34%\n",
       "2     11/10/2023   77.17   75.59   77.73   75.31  267.00K  +1.89%\n",
       "3     11/09/2023   75.74   75.65   77.16   75.21  303.43K  +0.54%\n",
       "4     11/08/2023   75.33   77.12   77.53   74.91  429.65K  -2.64%\n",
       "...          ...     ...     ...     ...     ...      ...     ...\n",
       "2565  02/24/2014  102.82  102.29  103.45  101.97  177.86K  +0.61%\n",
       "2566  02/21/2014  102.20  102.87  102.92  101.69  173.26K  -0.70%\n",
       "2567  02/20/2014  102.92  103.41  103.50  102.75   36.26K  -0.38%\n",
       "2568  02/19/2014  103.31  103.14  103.80  102.40  116.16K  +0.86%\n",
       "2569  02/18/2014  102.43  100.32  103.25  100.23  177.37K  +1.83%\n",
       "\n",
       "[2570 rows x 7 columns]"
      ]
     },
     "execution_count": 30,
     "metadata": {},
     "output_type": "execute_result"
    }
   ],
   "source": [
    "df"
   ]
  }
 ],
 "metadata": {
  "kernelspec": {
   "display_name": "Python 3",
   "language": "python",
   "name": "python3"
  },
  "language_info": {
   "codemirror_mode": {
    "name": "ipython",
    "version": 3
   },
   "file_extension": ".py",
   "mimetype": "text/x-python",
   "name": "python",
   "nbconvert_exporter": "python",
   "pygments_lexer": "ipython3",
   "version": "3.11.5"
  }
 },
 "nbformat": 4,
 "nbformat_minor": 2
}
