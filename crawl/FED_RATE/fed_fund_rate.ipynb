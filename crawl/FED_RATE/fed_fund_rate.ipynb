{
 "cells": [
  {
   "cell_type": "code",
   "execution_count": 20,
   "metadata": {},
   "outputs": [],
   "source": [
    "from selenium import webdriver\n",
    "from selenium.webdriver.edge.options import Options\n",
    "import pandas as pd\n",
    "from selenium.webdriver.common.by import By\n",
    "from datetime import datetime\n",
    "import time"
   ]
  },
  {
   "cell_type": "code",
   "execution_count": 21,
   "metadata": {},
   "outputs": [],
   "source": [
    "def crawl_fed(link, start,end):\n",
    "    options=Options()\n",
    "    options.add_experimental_option('detach',True)\n",
    "    driver=webdriver.Edge(options=options)\n",
    "    driver.get(link)\n",
    "    time.sleep(5)\n",
    "    show_more=driver.find_element(By.XPATH,'//*[@id=\"showMoreHistory168\"]')\n",
    "    while True:\n",
    "        patial=driver.find_elements(By.XPATH,' //*[starts-with(@id, \"historicEvent_\")]/td[1]')\n",
    "        yesterday=datetime.strptime(patial[-1].text, '%b %d, %Y')\n",
    "        if yesterday<=start:\n",
    "            break\n",
    "        show_more.click()\n",
    "        time.sleep(2)\n",
    "    date=driver.find_elements(By.XPATH,' //*[starts-with(@id, \"historicEvent_\")]/td[1]')\n",
    "    rate=driver.find_elements(By.XPATH,' //*[starts-with(@id, \"historicEvent_\")]/td[3]')\n",
    "    data_len=len(date)\n",
    "    save={\n",
    "        'time':[],\n",
    "        'rate':[],\n",
    "\n",
    "    }\n",
    "    print(data_len)\n",
    "    for day in range(data_len):\n",
    "        curr_day=datetime.strptime(date[day].text, '%b %d, %Y')\n",
    "        if curr_day>end:\n",
    "            continue\n",
    "        numerical_form = curr_day.strftime('%Y-%m-%d')\n",
    "        save['time'].append(numerical_form)\n",
    "        save['rate'].append(rate[day].text)\n",
    "\n",
    "    df=pd.DataFrame(save)\n",
    "    \n",
    "    return df"
   ]
  },
  {
   "cell_type": "code",
   "execution_count": 22,
   "metadata": {},
   "outputs": [
    {
     "name": "stdout",
     "output_type": "stream",
     "text": [
      "114\n"
     ]
    }
   ],
   "source": [
    "start=datetime(2010,1,4)\n",
    "end=datetime(2023,11,3)\n",
    "link='https://www.investing.com/economic-calendar/interest-rate-decision-168/'\n",
    "df=crawl_fed(link,start,end)\n",
    "df.to_csv('FED_INTEREST_RATE_ver4.csv', index=False)"
   ]
  },
  {
   "cell_type": "code",
   "execution_count": 23,
   "metadata": {},
   "outputs": [
    {
     "data": {
      "text/html": [
       "<div>\n",
       "<style scoped>\n",
       "    .dataframe tbody tr th:only-of-type {\n",
       "        vertical-align: middle;\n",
       "    }\n",
       "\n",
       "    .dataframe tbody tr th {\n",
       "        vertical-align: top;\n",
       "    }\n",
       "\n",
       "    .dataframe thead th {\n",
       "        text-align: right;\n",
       "    }\n",
       "</style>\n",
       "<table border=\"1\" class=\"dataframe\">\n",
       "  <thead>\n",
       "    <tr style=\"text-align: right;\">\n",
       "      <th></th>\n",
       "      <th>time</th>\n",
       "      <th>rate</th>\n",
       "    </tr>\n",
       "  </thead>\n",
       "  <tbody>\n",
       "    <tr>\n",
       "      <th>0</th>\n",
       "      <td>2023-11-01</td>\n",
       "      <td>5.50%</td>\n",
       "    </tr>\n",
       "    <tr>\n",
       "      <th>1</th>\n",
       "      <td>2023-09-20</td>\n",
       "      <td>5.50%</td>\n",
       "    </tr>\n",
       "    <tr>\n",
       "      <th>2</th>\n",
       "      <td>2023-07-26</td>\n",
       "      <td>5.50%</td>\n",
       "    </tr>\n",
       "    <tr>\n",
       "      <th>3</th>\n",
       "      <td>2023-06-14</td>\n",
       "      <td>5.25%</td>\n",
       "    </tr>\n",
       "    <tr>\n",
       "      <th>4</th>\n",
       "      <td>2023-05-03</td>\n",
       "      <td>5.25%</td>\n",
       "    </tr>\n",
       "    <tr>\n",
       "      <th>...</th>\n",
       "      <td>...</td>\n",
       "      <td>...</td>\n",
       "    </tr>\n",
       "    <tr>\n",
       "      <th>108</th>\n",
       "      <td>2010-06-23</td>\n",
       "      <td>0.25%</td>\n",
       "    </tr>\n",
       "    <tr>\n",
       "      <th>109</th>\n",
       "      <td>2010-04-28</td>\n",
       "      <td>0.25%</td>\n",
       "    </tr>\n",
       "    <tr>\n",
       "      <th>110</th>\n",
       "      <td>2010-03-16</td>\n",
       "      <td>0.25%</td>\n",
       "    </tr>\n",
       "    <tr>\n",
       "      <th>111</th>\n",
       "      <td>2010-01-27</td>\n",
       "      <td>0.25%</td>\n",
       "    </tr>\n",
       "    <tr>\n",
       "      <th>112</th>\n",
       "      <td>2009-12-16</td>\n",
       "      <td>0.25%</td>\n",
       "    </tr>\n",
       "  </tbody>\n",
       "</table>\n",
       "<p>113 rows × 2 columns</p>\n",
       "</div>"
      ],
      "text/plain": [
       "           time   rate\n",
       "0    2023-11-01  5.50%\n",
       "1    2023-09-20  5.50%\n",
       "2    2023-07-26  5.50%\n",
       "3    2023-06-14  5.25%\n",
       "4    2023-05-03  5.25%\n",
       "..          ...    ...\n",
       "108  2010-06-23  0.25%\n",
       "109  2010-04-28  0.25%\n",
       "110  2010-03-16  0.25%\n",
       "111  2010-01-27  0.25%\n",
       "112  2009-12-16  0.25%\n",
       "\n",
       "[113 rows x 2 columns]"
      ]
     },
     "execution_count": 23,
     "metadata": {},
     "output_type": "execute_result"
    }
   ],
   "source": [
    "df"
   ]
  }
 ],
 "metadata": {
  "kernelspec": {
   "display_name": "Python 3",
   "language": "python",
   "name": "python3"
  },
  "language_info": {
   "codemirror_mode": {
    "name": "ipython",
    "version": 3
   },
   "file_extension": ".py",
   "mimetype": "text/x-python",
   "name": "python",
   "nbconvert_exporter": "python",
   "pygments_lexer": "ipython3",
   "version": "3.11.5"
  }
 },
 "nbformat": 4,
 "nbformat_minor": 2
}
