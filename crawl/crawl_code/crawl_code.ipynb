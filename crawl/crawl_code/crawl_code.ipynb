{
 "cells": [
  {
   "cell_type": "code",
   "execution_count": 1,
   "metadata": {},
   "outputs": [
    {
     "ename": "ModuleNotFoundError",
     "evalue": "No module named 'selenium'",
     "output_type": "error",
     "traceback": [
      "\u001b[0;31m---------------------------------------------------------------------------\u001b[0m",
      "\u001b[0;31mModuleNotFoundError\u001b[0m                       Traceback (most recent call last)",
      "\u001b[1;32m/lavibula/GoldPricePrediction/crawl/crawl_code/crawl_code.ipynb Cell 1\u001b[0m line \u001b[0;36m1\n\u001b[0;32m----> <a href='vscode-notebook-cell://github%2B7b2276223a312c22726566223a7b2274797065223a342c226964223a22746f7069632f637261776c2f636f6465227d7d/lavibula/GoldPricePrediction/crawl/crawl_code/crawl_code.ipynb#W0sdnNjb2RlLXZmcw%3D%3D?line=0'>1</a>\u001b[0m \u001b[39mfrom\u001b[39;00m \u001b[39mselenium\u001b[39;00m \u001b[39mimport\u001b[39;00m webdriver  \n\u001b[1;32m      <a href='vscode-notebook-cell://github%2B7b2276223a312c22726566223a7b2274797065223a342c226964223a22746f7069632f637261776c2f636f6465227d7d/lavibula/GoldPricePrediction/crawl/crawl_code/crawl_code.ipynb#W0sdnNjb2RlLXZmcw%3D%3D?line=1'>2</a>\u001b[0m \u001b[39mfrom\u001b[39;00m \u001b[39mselenium\u001b[39;00m\u001b[39m.\u001b[39;00m\u001b[39mwebdriver\u001b[39;00m\u001b[39m.\u001b[39;00m\u001b[39medge\u001b[39;00m\u001b[39m.\u001b[39;00m\u001b[39moptions\u001b[39;00m \u001b[39mimport\u001b[39;00m Options  \n\u001b[1;32m      <a href='vscode-notebook-cell://github%2B7b2276223a312c22726566223a7b2274797065223a342c226964223a22746f7069632f637261776c2f636f6465227d7d/lavibula/GoldPricePrediction/crawl/crawl_code/crawl_code.ipynb#W0sdnNjb2RlLXZmcw%3D%3D?line=2'>3</a>\u001b[0m \u001b[39mfrom\u001b[39;00m \u001b[39mselenium\u001b[39;00m\u001b[39m.\u001b[39;00m\u001b[39mwebdriver\u001b[39;00m\u001b[39m.\u001b[39;00m\u001b[39mcommon\u001b[39;00m\u001b[39m.\u001b[39;00m\u001b[39mby\u001b[39;00m \u001b[39mimport\u001b[39;00m By  \n",
      "\u001b[0;31mModuleNotFoundError\u001b[0m: No module named 'selenium'"
     ]
    }
   ],
   "source": [
    "from selenium import webdriver  \n",
    "from selenium.webdriver.edge.options import Options  \n",
    "from selenium.webdriver.common.by import By  \n",
    "from selenium.webdriver.support.ui import WebDriverWait  \n",
    "from selenium.webdriver.support import expected_conditions as EC  \n",
    "import pandas as pd  \n",
    "from datetime import datetime  \n",
    "import time  "
   ]
  },
  {
   "cell_type": "markdown",
   "metadata": {},
   "source": [
    "# Code for Crawl Data about: \n",
    "- Silver\n",
    "- Crude Oil\n",
    "- SP500\n",
    "- Russel 2000 Index\n",
    "- Platinum\n",
    "- Copper\n",
    "- Dollar Index\n",
    "- CBOE Volatility Index\n",
    "- MSCI EM EFT\n",
    "- EuroUSD\n",
    "- NASDAQ Composite (IXIC)\n",
    "- Nuclear Energy Index\n",
    "(VanEck Uranium+Nuclear Energy ETF (NLR) - năng lượng hạt nhân)\n",
    "- Rice"
   ]
  },
  {
   "cell_type": "code",
   "execution_count": null,
   "metadata": {},
   "outputs": [],
   "source": [
    "def get_data(url, start_date_input, end_date_input, column_name='close'):\n",
    "    start_time = time.time()  # Record the start time\n",
    "    \n",
    "    options = Options()     \n",
    "    options.add_experimental_option('detach', True)    \n",
    "    driver = webdriver.Edge(options=options)  # Assuming you are using Edge, change this if using a different browser\n",
    "    driver.get(url)\n",
    "    \n",
    "    def set_date_and_apply(start_date, end_date):\n",
    "        time.sleep(5)\n",
    "        driver.find_element(By.XPATH, '//*[@id=\"Col1-1-HistoricalDataTable-Proxy\"]/section/div[1]/div[1]/div[1]/div/div/div[1]').click()\n",
    "        driver.find_element(By.XPATH, '//*[@id=\"dropdown-menu\"]/div/div[1]/input').send_keys(start_date)\n",
    "        driver.find_element(By.XPATH, '//*[@id=\"dropdown-menu\"]/div/div[2]/input').send_keys(end_date)\n",
    "        driver.find_element(By.XPATH, '//*[@id=\"dropdown-menu\"]/div/div[3]/button[1]').click()\n",
    "        driver.find_element(By.XPATH, '//*[@id=\"Col1-1-HistoricalDataTable-Proxy\"]/section/div[1]/div[1]/button').click()\n",
    " \n",
    "    set_date_and_apply(start_date_input, end_date_input)\n",
    "\n",
    "    # Step3: Scroll down to download all data\n",
    "    time.sleep(5) \n",
    "    previous_length = 0\n",
    "    while True:\n",
    "        bottom = driver.find_element(By.XPATH, '//*[@id=\"Col1-1-HistoricalDataTable-Proxy\"]/section/div[2]/table/tfoot/tr')\n",
    "        driver.execute_script(\"arguments[0].scrollIntoView(true);\", bottom)\n",
    "        time.sleep(5) \n",
    "\n",
    "        current_length = len(driver.find_elements(By.XPATH, '//*[@id=\"Col1-1-HistoricalDataTable-Proxy\"]/section/div[2]/table/tbody/tr'))\n",
    "        if current_length == previous_length:\n",
    "            break\n",
    "        else:\n",
    "            previous_length = current_length\n",
    "    \n",
    "    rows = driver.find_elements(By.XPATH, '//*[@id=\"Col1-1-HistoricalDataTable-Proxy\"]/section/div[2]/table/tbody/tr')\n",
    "    data = []   \n",
    "    for row in rows:\n",
    "        cells = row.find_elements(By.TAG_NAME, 'td')     \n",
    "        if len(cells) >= 5:\n",
    "            date_text = cells[0].text\n",
    "            close_text = cells[4].text\n",
    "            numerical_date = datetime.strptime(date_text, '%b %d, %Y').strftime('%d/%m/%Y')\n",
    "            \n",
    "            data.append({'date': numerical_date, column_name: close_text})\n",
    "\n",
    "    df = pd.DataFrame(data)\n",
    "    \n",
    "    end_time = time.time()  # Record the end time\n",
    "    execution_time = end_time - start_time\n",
    "    print(f\"Execution time: {execution_time} seconds\")\n",
    "    \n",
    "    return df"
   ]
  },
  {
   "cell_type": "markdown",
   "metadata": {},
   "source": [
    "# General \n",
    "Set up from start date to end date"
   ]
  },
  {
   "cell_type": "code",
   "execution_count": null,
   "metadata": {},
   "outputs": [],
   "source": [
    "start = datetime(2010,1,4)\n",
    "end = datetime(2023,11,20)"
   ]
  },
  {
   "cell_type": "markdown",
   "metadata": {},
   "source": [
    "## Silver"
   ]
  },
  {
   "cell_type": "code",
   "execution_count": null,
   "metadata": {},
   "outputs": [],
   "source": [
    "\n",
    "url_sil = 'https://finance.yahoo.com/quote/SI%3DF/history?p=SI%3DF'\n",
    "df_sil = get_data(url_sil, start, end, column_name='silver')\n",
    "df_sil.to_csv('silver.csv', index=False)"
   ]
  },
  {
   "cell_type": "markdown",
   "metadata": {},
   "source": [
    "## Crude Oil"
   ]
  },
  {
   "cell_type": "code",
   "execution_count": null,
   "metadata": {},
   "outputs": [],
   "source": [
    "\n",
    "url_cru = 'https://finance.yahoo.com/quote/CL%3DF/history?p=CL%3DF'\n",
    "df_cru = get_data(url_cru, start, end, column_name='crude_oil')\n",
    "df_cru.to_csv('crude_oil.csv', index=False)"
   ]
  },
  {
   "cell_type": "markdown",
   "metadata": {},
   "source": [
    "## SP&500"
   ]
  },
  {
   "cell_type": "code",
   "execution_count": null,
   "metadata": {},
   "outputs": [],
   "source": [
    "\n",
    "url_SP500 = 'https://finance.yahoo.com/quote/%5EGSPC/history?p=%5EGSPC'\n",
    "df_SP500 = get_data(url_SP500, start, end, column_name='SP500')\n",
    "df_SP500.to_csv('SP500.csv', index=False)"
   ]
  },
  {
   "cell_type": "markdown",
   "metadata": {},
   "source": [
    "## Russel 2000 Index"
   ]
  },
  {
   "cell_type": "code",
   "execution_count": null,
   "metadata": {},
   "outputs": [],
   "source": [
    "\n",
    "url_RUT = 'https://finance.yahoo.com/quote/%5ERUT/history?p=%5ERUT'\n",
    "df_RUT = get_data(url_RUT, start, end, column_name= 'RUT')\n",
    "df_RUT.to_csv('RUT.csv', index=False)"
   ]
  },
  {
   "cell_type": "markdown",
   "metadata": {},
   "source": [
    "## Platinum"
   ]
  },
  {
   "cell_type": "code",
   "execution_count": null,
   "metadata": {},
   "outputs": [],
   "source": [
    "\n",
    "url_pla = 'https://finance.yahoo.com/quote/PL%3DF/history?p=PL%3DF'\n",
    "df_pla = get_data(url_pla, start, end, column_name='platinum')\n",
    "df_pla.to_csv('platinum.csv', index=False)"
   ]
  },
  {
   "cell_type": "markdown",
   "metadata": {},
   "source": [
    "## Copper"
   ]
  },
  {
   "cell_type": "code",
   "execution_count": null,
   "metadata": {},
   "outputs": [],
   "source": [
    "\n",
    "url_cop = 'https://finance.yahoo.com/quote/HG%3DF/history?p=HG%3DF'\n",
    "df_cop = get_data(url_cop, start, end, column_name= 'copper')\n",
    "df_cop.to_csv('copper.csv', index=False)"
   ]
  },
  {
   "cell_type": "markdown",
   "metadata": {},
   "source": [
    "## Dollar Index"
   ]
  },
  {
   "cell_type": "code",
   "execution_count": null,
   "metadata": {},
   "outputs": [],
   "source": [
    "\n",
    "url_DXY = 'https://finance.yahoo.com/quote/DX-Y.NYB/history?p=DX-Y.NYB'\n",
    "df_DXY = get_data(url_DXY, start, end, column_name= 'DXY')\n",
    "df_DXY.to_csv('DXY.csv', index=False)"
   ]
  },
  {
   "cell_type": "markdown",
   "metadata": {},
   "source": [
    "## CBOE Volatility Index"
   ]
  },
  {
   "cell_type": "code",
   "execution_count": null,
   "metadata": {},
   "outputs": [],
   "source": [
    "\n",
    "url_VIX = 'https://finance.yahoo.com/quote/%5EVIX/history?p=%5EVIX'\n",
    "df_VIX = get_data(url_VIX, start, end, column_name= 'VIX')\n",
    "df_VIX.to_csv('VIX.csv', index=False)"
   ]
  },
  {
   "cell_type": "markdown",
   "metadata": {},
   "source": [
    "## MSCI EM EFT"
   ]
  },
  {
   "cell_type": "code",
   "execution_count": null,
   "metadata": {},
   "outputs": [],
   "source": [
    "\n",
    "url_MSCI = 'https://finance.yahoo.com/quote/MSCI/history?p=MSCI'\n",
    "df_MSCI = get_data(url_MSCI, start, end, column_name= 'MSCI')\n",
    "df_MSCI.to_csv('MSCI.csv', index=False)"
   ]
  },
  {
   "cell_type": "markdown",
   "metadata": {},
   "source": [
    "## EuroUSD"
   ]
  },
  {
   "cell_type": "code",
   "execution_count": null,
   "metadata": {},
   "outputs": [],
   "source": [
    "\n",
    "url_EURUSD = 'https://finance.yahoo.com/quote/EURUSD%3DX/history?p=EURUSD%3DX'\n",
    "df_EURUSD = get_data(url_EURUSD, start, end, column_name= 'EURUSD')\n",
    "df_EURUSD.to_csv('EURUSD.csv', index=False)"
   ]
  },
  {
   "cell_type": "markdown",
   "metadata": {},
   "source": [
    "## NASDAQ Composite (IXIC)"
   ]
  },
  {
   "cell_type": "code",
   "execution_count": null,
   "metadata": {},
   "outputs": [],
   "source": [
    "\n",
    "url_NASDAQ = 'https://finance.yahoo.com/quote/%5EIXIC/history?p=%5EIXIC'\n",
    "df_NASDAQ = get_data(url_NASDAQ, start, end, column_name= 'NASDAQ')\n",
    "df_NASDAQ.to_csv('NASDAQ.csv', index=False)"
   ]
  },
  {
   "cell_type": "markdown",
   "metadata": {},
   "source": [
    "## Nuclear Energy Index\n",
    "VanEck Uranium+Nuclear Energy ETF (NLR) - năng lượng hạt nhân"
   ]
  },
  {
   "cell_type": "code",
   "execution_count": null,
   "metadata": {},
   "outputs": [],
   "source": [
    "\n",
    "url_NLR = 'https://finance.yahoo.com/quote/NLR/history?p=NLR'\n",
    "df_NLR = get_data(url_NASDAQ, start, end, column_name= 'NLR')\n",
    "df_NLR.to_csv('NLR.csv', index=False)"
   ]
  },
  {
   "cell_type": "markdown",
   "metadata": {},
   "source": [
    "## Rough Rice Futures"
   ]
  },
  {
   "cell_type": "code",
   "execution_count": null,
   "metadata": {},
   "outputs": [],
   "source": [
    "\n",
    "url_rice = 'https://finance.yahoo.com/quote/ZR%3DF/history?p=ZR%3DF'\n",
    "df_rice = get_data(url_rice, start, end, column_name= 'rice')\n",
    "df_rice.to_csv('rice.csv', index=False)"
   ]
  }
 ],
 "metadata": {
  "kernelspec": {
   "display_name": "Python 3",
   "language": "python",
   "name": "python3"
  },
  "language_info": {
   "codemirror_mode": {
    "name": "ipython",
    "version": 3
   },
   "file_extension": ".py",
   "mimetype": "text/x-python",
   "name": "python",
   "nbconvert_exporter": "python",
   "pygments_lexer": "ipython3",
   "version": "3.9.6"
  }
 },
 "nbformat": 4,
 "nbformat_minor": 2
}
