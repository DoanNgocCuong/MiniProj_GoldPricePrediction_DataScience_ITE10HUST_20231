{
  "cells": [
    {
      "cell_type": "markdown",
      "metadata": {
        "id": "0ExQfbfzFRIy"
      },
      "source": [
        "# Model Selection (README.md for Member/Model folder):"
      ]
    },
    {
      "cell_type": "markdown",
      "metadata": {
        "id": "IwwSY0dQF4SH"
      },
      "source": []
    }
  ],
  "metadata": {
    "colab": {
      "provenance": []
    },
    "kernelspec": {
      "display_name": "Python 3.10.8 64-bit (microsoft store)",
      "language": "python",
      "name": "python3"
    },
    "language_info": {
      "codemirror_mode": {
        "name": "ipython",
        "version": 3
      },
      "file_extension": ".py",
      "mimetype": "text/x-python",
      "name": "python",
      "nbconvert_exporter": "python",
      "pygments_lexer": "ipython3",
      "version": "3.11.3"
    },
    "orig_nbformat": 4,
    "vscode": {
      "interpreter": {
        "hash": "9e35676d33e03a9093a17dc7760f2b2aa4960ff6d3c0d7dc06348afdc0ca22c8"
      }
    }
  },
  "nbformat": 4,
  "nbformat_minor": 0
}
